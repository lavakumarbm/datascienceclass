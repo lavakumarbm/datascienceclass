{
 "cells": [
  {
   "cell_type": "markdown",
   "metadata": {},
   "source": [
    "<center>\n",
    "    <img src=\"https://cf-courses-data.s3.us.cloud-object-storage.appdomain.cloud/IBMDeveloperSkillsNetwork-DS0105EN-SkillsNetwork/labs/Module2/images/SN_web_lightmode.png\" width=\"300\" alt=\"cognitiveclass.ai logo\">\n",
    "</center>\n"
   ]
  },
  {
   "cell_type": "markdown",
   "metadata": {},
   "source": [
    "#### Add your code below following the instructions given in the course\n"
   ]
  },
  {
   "cell_type": "markdown",
   "metadata": {},
   "source": [
    "# Peer Graded Assignment Notebook"
   ]
  },
  {
   "cell_type": "markdown",
   "metadata": {},
   "source": [
    "## Introduction"
   ]
  },
  {
   "cell_type": "markdown",
   "metadata": {},
   "source": [
    "### Data Science Languages \n",
    "1. Java\n",
    "2. Python\n",
    "3. R\n",
    "4. C++\n",
    "5. Julia\n",
    "6. PHP\n",
    "7. JS\n",
    "8. SQL\n",
    "9. Scala\n",
    "10. Ruby\n",
    "11. JS\n",
    "12. Visual Basic\n"
   ]
  },
  {
   "cell_type": "markdown",
   "metadata": {},
   "source": [
    "### Data Science Libraries\n",
    "* Pandas\n",
    "* Numpy\n",
    "* Scipy\n",
    "* Matplotlib\n",
    "* Keras\n",
    "* TensorFlow\n",
    "* Scikit-Learn\n",
    "* Pytorch\n"
   ]
  },
  {
   "cell_type": "markdown",
   "metadata": {},
   "source": [
    "### Data Science Tools\n",
    "- Mysql, Postgresql, MongoDB, Apache CouchDB, Apache Cassandra, Hadoop File System, Ceph, Elastic Search\n",
    "- Apache Airflow, Kubeflow, Apache Kafka, Apache Nifi, Apache SparkSQL, NodeRed\n",
    "- Pixie dust, Hue, Kibana, Apache Superset\n",
    "- Apache PreditionIO, Seldon, Kubernetes, Redhat Openshift, Mleap, Tesorflow Service, Tensorflow lite, TensorFlow DOT JS\n",
    "- ModelDB, Prometheus, IBM AI Fairness 360, IBM Adversarial Robustness 360 Toolbox, IBM Explainability 360\n",
    "- Git, GitHub, GitLab, Bitbucket\n",
    "- Apache ATLAS, ODPi Egeria, Kylo"
   ]
  },
  {
   "cell_type": "markdown",
   "metadata": {},
   "source": [
    "###  Introducing arithmetic expression examples"
   ]
  },
  {
   "cell_type": "code",
   "execution_count": 1,
   "metadata": {
    "tags": []
   },
   "outputs": [
    {
     "data": {
      "text/plain": [
       "28"
      ]
     },
     "execution_count": 1,
     "metadata": {},
     "output_type": "execute_result"
    }
   ],
   "source": [
    "(4*5)+8"
   ]
  },
  {
   "cell_type": "code",
   "execution_count": 2,
   "metadata": {
    "tags": []
   },
   "outputs": [
    {
     "data": {
      "text/plain": [
       "5.5"
      ]
     },
     "execution_count": 2,
     "metadata": {},
     "output_type": "execute_result"
    }
   ],
   "source": [
    "# convert minutes to hours example 330 minutes to hours\n",
    "330/60"
   ]
  },
  {
   "cell_type": "markdown",
   "metadata": {
    "tags": []
   },
   "source": [
    "# **Objectives**"
   ]
  },
  {
   "cell_type": "markdown",
   "metadata": {
    "tags": []
   },
   "source": [
    "1.Describe the components of a Data Scientist's toolkit and list various tool categories.\n",
    "\n",
    "2.List examples of open-source tools used in data science.\n",
    "\n",
    "3.Describe the relevant features of open-source tools.\n",
    "\n",
    "4.List examples of commercial and cloud-based data science tools.\n"
   ]
  },
  {
   "cell_type": "markdown",
   "metadata": {},
   "source": [
    "## Author\n",
    "### Lava BM Kumar"
   ]
  },
  {
   "cell_type": "code",
   "execution_count": null,
   "metadata": {},
   "outputs": [],
   "source": []
  }
 ],
 "metadata": {
  "kernelspec": {
   "display_name": "Python",
   "language": "python",
   "name": "conda-env-python-py"
  },
  "language_info": {
   "codemirror_mode": {
    "name": "ipython",
    "version": 3
   },
   "file_extension": ".py",
   "mimetype": "text/x-python",
   "name": "python",
   "nbconvert_exporter": "python",
   "pygments_lexer": "ipython3",
   "version": "3.7.12"
  }
 },
 "nbformat": 4,
 "nbformat_minor": 4
}
