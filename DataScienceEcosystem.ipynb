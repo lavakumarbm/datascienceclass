{
 "cells": [
  {
   "cell_type": "markdown",
   "id": "9d5ce012-30ad-4f32-a8f7-4ba5f509615e",
   "metadata": {},
   "source": [
    "## Author\n",
    "### Lava Kumar"
   ]
  },
  {
   "cell_type": "code",
   "execution_count": null,
   "id": "68257ecd-d7de-4cb5-96a6-737c5bc6c362",
   "metadata": {},
   "outputs": [],
   "source": []
  }
 ],
 "metadata": {
  "kernelspec": {
   "display_name": "Python 3 (ipykernel)",
   "language": "python",
   "name": "python3"
  },
  "language_info": {
   "codemirror_mode": {
    "name": "ipython",
    "version": 3
   },
   "file_extension": ".py",
   "mimetype": "text/x-python",
   "name": "python",
   "nbconvert_exporter": "python",
   "pygments_lexer": "ipython3",
   "version": "3.11.7"
  }
 },
 "nbformat": 4,
 "nbformat_minor": 5
}
